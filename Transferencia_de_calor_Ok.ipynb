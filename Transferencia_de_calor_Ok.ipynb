{
  "nbformat": 4,
  "nbformat_minor": 0,
  "metadata": {
    "colab": {
      "name": "Transferencia_de_calor_Ok.ipynb",
      "provenance": [],
      "collapsed_sections": [],
      "authorship_tag": "ABX9TyOyxtGhYGdEPNSgQENeGE6R",
      "include_colab_link": true
    },
    "kernelspec": {
      "name": "python3",
      "display_name": "Python 3"
    },
    "language_info": {
      "name": "python"
    }
  },
  "cells": [
    {
      "cell_type": "markdown",
      "metadata": {
        "id": "view-in-github",
        "colab_type": "text"
      },
      "source": [
        "<a href=\"https://colab.research.google.com/github/Britojuliano99/SIMULATION-OF-WORT-COLLING-/blob/main/Transferencia_de_calor_Ok.ipynb\" target=\"_parent\"><img src=\"https://colab.research.google.com/assets/colab-badge.svg\" alt=\"Open In Colab\"/></a>"
      ]
    },
    {
      "cell_type": "code",
      "execution_count": null,
      "metadata": {
        "id": "Ga18tiTsY2tM"
      },
      "outputs": [],
      "source": [
        "import numpy as np\n",
        "import matplotlib.pyplot as plt\n",
        "from matplotlib import animation\n",
        "import pandas as pd"
      ]
    },
    {
      "cell_type": "markdown",
      "source": [
        "#Funções para calcular os coeficientes de transferencia de calor\n",
        "#Convecção interna\n",
        "#Convecção Natural"
      ],
      "metadata": {
        "id": "TYuHjViUZMIi"
      }
    },
    {
      "cell_type": "code",
      "source": [
        "def hconvectivo_aquecimento_turbulento(T,m,D,n):\n",
        "    cp=4180\n",
        "    k=0.64\n",
        "    pi=3.14\n",
        "    u_in=np.zeros((n),dtype=np.float128)\n",
        "    Re_in=np.zeros((n),dtype=np.float128)\n",
        "    Pr_in=np.zeros((n),dtype=np.float128)\n",
        "    Nu_in=np.zeros((n),dtype=np.float128)\n",
        "    h=np.zeros((n),dtype=np.float128)\n",
        "    \n",
        "    u_in[:]=(289+8*(T[:]-300))*10**-6\n",
        "    Re_in[:]=(4*m)/(u_in[:]*pi*D)\n",
        "    Pr_in[:]=5.83-0.05*(T[:]-300)\n",
        "    if Re_in.mean() >10000:\n",
        "      Nu_in[:]=0.023*(Re_in[:]**(0.8))*(Pr_in[:]**(0.4))\n",
        "    else:\n",
        "      Nu_in[:]=0.023*(Re_in[:]**(0.8))*(Pr_in[:]**(0.4))\n",
        "    h[:]=Nu_in[:]*k/D\n",
        "    return h\n",
        "  \n",
        "def hconvectivo_natural(T,D,Ts):\n",
        "    g=9.81\n",
        "    cp=4180\n",
        "    k=0.64\n",
        "    rho=1000\n",
        "    \n",
        "    Ra_out=np.float128\n",
        "    u=np.float128\n",
        "    v=np.float128\n",
        "    Pr_out=np.float128\n",
        "    alpha=np.float128\n",
        "    beta_out=np.float128\n",
        "    u=(289+8*(T-300))*10**(-6)\n",
        "    Pr_out=5.83-0.05*(T-300)\n",
        "    v=u/Pr_out\n",
        "    alpha= k/(rho*cp)\n",
        "    beta_out=(276.1+6.77*(T-300))*10**-6\n",
        "    Ra_out=(g*beta_out*(abs(T-Ts))*D**3)/(v*alpha)\n",
        "    Nu_out=(0.6+((0.387*(Ra_out)**(1/6))/(1+((0.559/Pr_out)**(9/16)))**(8/27)))**2\n",
        "    h=Nu_out*k/D\n",
        "   \n",
        "    return h\n"
      ],
      "metadata": {
        "id": "W62EjKsnZKV5"
      },
      "execution_count": null,
      "outputs": []
    },
    {
      "cell_type": "markdown",
      "source": [
        "#Usando a media para calcular\n"
      ],
      "metadata": {
        "id": "KaE5Xq6-biwp"
      }
    },
    {
      "cell_type": "code",
      "source": [
        "def hconvectivo_aquecimento_turbulento2(Ti,m,D,n):\n",
        "    cp=4180\n",
        "    k=0.64\n",
        "    pi=3.14\n",
        "    T=Ti.mean()\n",
        "    \n",
        "    Re_in=np.float128\n",
        "    \n",
        "    u_in=453*10**(-6)\n",
        "    Re_in=(4*m)/(u_in*pi*D)\n",
        "    Pr_in=5.83-(0.05*(T-300))\n",
        "    if Re_in >10000:\n",
        "      Nu_in=0.023*(Re_in**(0.8))*(Pr_in**(0.4))\n",
        "      h=Nu_in*k/D\n",
        "      \n",
        "    else:\n",
        "      print(Re_in)\n",
        "      Nu_in=3.66\n",
        "      h=Nu_in*k/D\n",
        "    \n",
        "    if h==np.NAN:\n",
        "      print(\"erro em interno\")\n",
        "    return h\n",
        "    \n",
        "  \n",
        "    \n",
        "  \n",
        "def hconvectivo_natural2(T,D,Ts):\n",
        "    g=9.81\n",
        "    cp=4180\n",
        "    k=0.64\n",
        "    rho=1000\n",
        "    Ra_out=np.float128\n",
        "    u=np.float128\n",
        "    v=np.float128\n",
        "    Pr_out=np.float128\n",
        "    alpha=np.float128\n",
        "    beta_out=np.float128\n",
        "    u=453*10**(-6)\n",
        "    Pr_out=5.83-(0.05*(T-300))\n",
        "    v=u/Pr_out\n",
        "    alpha= k/(rho*cp)\n",
        "    beta_out=(276.1+(6.77*(T-300)))*10**-6\n",
        "    Ra_out=(g*beta_out*(abs(T-Ts))*D**3)/(v*alpha)\n",
        "    a=(0.387*(Ra_out)**(1/6))\n",
        "    b=(1+((0.559/Pr_out)**(9/16)))**(8/27)\n",
        "    Nu_out=(0.6+a/b)**2\n",
        "    \n",
        "    h=Nu_out*k/D\n",
        "    return h"
      ],
      "metadata": {
        "id": "EhHYG83QbTMZ"
      },
      "execution_count": null,
      "outputs": []
    },
    {
      "cell_type": "markdown",
      "source": [
        "#Função que calcula a tranferencia de calor e retorna 4 valores:\n",
        "A temperatura do fluido interno para cada instante de tempo;\n",
        "\n",
        "A temperatura do fluido externo para cada periodo de tempo;\n",
        "\n",
        "Temperatura que o fluido interno sai;\n",
        "\n",
        "Tempo total para o resfriamento completo.\n"
      ],
      "metadata": {
        "id": "UwqypGyzZdi9"
      }
    },
    {
      "cell_type": "code",
      "source": [
        "def aquecimentoaguadtdx(T0,Ti,m_dot,r,l,e):\n",
        "    t_final=100000\n",
        "    dt=0.1\n",
        "    n=l*10\n",
        "    dx=l/n\n",
        "    x=np.linspace(dx/2,l-dx/2,n)\n",
        "    T=np.ones(n)*Ti\n",
        "    T1s=np.ones((t_final,n))\n",
        "    \n",
        "    \n",
        "    T0s=np.ones(t_final)*Ti\n",
        "    Tsaida=np.ones(t_final)\n",
        "    dTdt = np.zeros(n)\n",
        "    m_agua=50\n",
        "    cp=4180\n",
        "    k_tubo=237\n",
        "    rho=1000\n",
        "    Ts=np.ones(n)*(T+T0)/2\n",
        "    Tempo=0\n",
        "    Tempo40=0\n",
        "    y=np.float128\n",
        "    ys=np.ones(t_final)\n",
        "    jbreak=int\n",
        "    for j in range(0,t_final):\n",
        "        Ts[:]=(T[:]+T0)/2\n",
        "        a=hconvectivo_natural(T0,(r+e)*2,Ts)\n",
        "        b=hconvectivo_aquecimento_turbulento(T,m_dot,r*2,n)\n",
        "        y=1/(1/b +1/a +((r/k_tubo)*np.log((r+e)/r)))\n",
        "        ys[j]=y.mean()\n",
        "        dTdt[0]=((m_dot*cp*(Ti-T[0]))+(y[0]*2*np.pi*dx*r*(T0-T[0])))/(rho*cp*np.pi*dx*r**2)\n",
        "        dTdt[1:n]=((m_dot*cp*(T[0:n-1]-T[1:n]))+(y[1:n]*2*np.pi*r*dx*(T0-T[1:n])))/(rho*cp*np.pi*dx*r**2)\n",
        "        a=(Ti-T[n-1])*cp*m_dot*dt\n",
        "        \n",
        "        dT0=a/(cp*m_agua)\n",
        "        T=T+dTdt*dt\n",
        "        T0=T0+dT0\n",
        "        Tsaida[j]=T[n-1]-273.15\n",
        "        T1s[j,:]=T[:]-273.15\n",
        "        \n",
        "        T0s[j]=T0-273.15\n",
        "\n",
        "        \n",
        "        if T0.round()==(310):\n",
        "         Tempo40=round(j*dt/60)\n",
        "        if T0.round()==Ti:\n",
        "          Tempo=round(j*dt/60)\n",
        "          print(j)\n",
        "          jbreak=j\n",
        "          break\n",
        "    print(ys.mean())\n",
        "    print(Tempo40)\n",
        "    print(Tempo)\n",
        "    plt.plot(T0s[:jbreak])\n",
        "    return T1s,T0s,Tsaida,Tempo,Tempo40"
      ],
      "metadata": {
        "id": "lAw6NUNsaDXN"
      },
      "execution_count": null,
      "outputs": []
    },
    {
      "cell_type": "code",
      "source": [
        "def aquecimentoaguadtdx2(T0,Ti,m_dot,m,r,l,e):\n",
        "    t_final=100000\n",
        "    dt=0.1\n",
        "    n=l*10\n",
        "    dx=l/n\n",
        "    x=np.linspace(dx/2,l-dx/2,n)\n",
        "    Tempos=np.linspace(0,t_final*dt/60,t_final)\n",
        "    T=np.ones(n)*Ti\n",
        "    T1s=np.ones((t_final,n))\n",
        "    \n",
        "    \n",
        "    T0s=np.ones(t_final)*(Ti-273.15)\n",
        "    Tsaida=np.ones(t_final)\n",
        "    dTdt = np.zeros(n)\n",
        "    m_agua=m\n",
        "    cp=4180\n",
        "    k_tubo=237\n",
        "    rho=1000\n",
        "    Ts=np.ones(n)*(T+T0)/2\n",
        "    Tempo=0\n",
        "    Tempo40=0\n",
        "    y=np.float128\n",
        "    ys=np.ones(t_final)\n",
        "    jbreak=10000\n",
        "    for j in range(0,t_final):\n",
        "        Ts=(T.mean()+T0)/2\n",
        "       \n",
        "        b=hconvectivo_aquecimento_turbulento2(T,m_dot,r*2,n)\n",
        "        a=hconvectivo_natural2(T0,(r+e)*2,Ts)\n",
        "        y=1/(1/b +1/a +((r/k_tubo)*np.log((r+e)/r)))\n",
        "        ys[j]=y\n",
        "        dTdt[0]=((m_dot*cp*(Ti-T[0]))+(y*2*np.pi*dx*r*(T0-T[0])))/(rho*cp*np.pi*dx*r**2)\n",
        "        dTdt[1:n]=((m_dot*cp*(T[0:n-1]-T[1:n]))+(y*2*np.pi*r*dx*(T0-T[1:n])))/(rho*cp*np.pi*dx*r**2)\n",
        "        a=(Ti-T[n-1])*cp*m_dot*dt\n",
        "        \n",
        "        dT0=a/(cp*m_agua)\n",
        "        T=T+dTdt*dt\n",
        "        T0=T0+dT0\n",
        "        Tsaida[j]=T[n-1]-273.15\n",
        "        T1s[j,:]=T[:]-273.15\n",
        "        T0s[j]=T0-273.15\n",
        "        \n",
        "        if T0.round()==(310):\n",
        "         Tempo40=round(j*dt/60)\n",
        "        if T0.round()==Ti:\n",
        "          Tempo=round(j*dt/60)\n",
        "          jbreak=j\n",
        "          break\n",
        "    print(ys.mean())\n",
        "    print(Tempo40)\n",
        "    print(Tempo)\n",
        "    fig, ax = plt.subplots(figsize=(10,4))\n",
        "    ax.set_xlabel=(\"Tempo em minutos\")\n",
        "    ax.set_ylabel=(\"Temperatura do mosto em °C\")\n",
        "    ax.plot(Tempos[:jbreak],T0s[:jbreak],label=(\"Comprimento do Chiller:\", l,\"Fluxo de água:\",m_dot))\n",
        "   \n",
        "    ax.legend()\n",
        "   \n",
        "    return T1s,T0s,Tsaida,Tempo,Tempo40"
      ],
      "metadata": {
        "id": "Y2gwVwzpbEvg"
      },
      "execution_count": null,
      "outputs": []
    },
    {
      "cell_type": "code",
      "source": [
        "def plot(Tempos,T0s,jbreak,l,m_dot):\n",
        "  fig, ax = plt.subplots(figsize=(10,4))\n",
        "  ax.set_xlabel=(\"Tempo em minutos\")\n",
        "  ax.set_ylabel=(\"Temperatura do mosto em °C\")\n",
        "  ax.plot(Tempos[:jbreak],T0s[:jbreak],\"Comprimento do Chiller(m):\", l,\"Fluxo de água(kg/s):\",m_dot)\n",
        "   \n",
        "  ax.legend()"
      ],
      "metadata": {
        "id": "RSHWyEjScT1A"
      },
      "execution_count": null,
      "outputs": []
    },
    {
      "cell_type": "code",
      "source": [
        "\n",
        "a1=aquecimentoaguadtdx2(370,300,0.5,50,0.05,10,0.005)\n",
        "\n",
        "#a3=aquecimentoaguadtdx2(370,300,1,0.025,10,0.005)\n",
        "#a4=aquecimentoaguadtdx2(370,300,2,0.025,10,0.005)\n",
        "#a5=aquecimentoaguadtdx2(370,275,0.3,0.025,10,0.005)\n",
        "#a6=aquecimentoaguadtdx2(370,275,0.3,25,0.025,10,0.005)"
      ],
      "metadata": {
        "colab": {
          "base_uri": "https://localhost:8080/",
          "height": 323
        },
        "id": "fpuNbIEDaExO",
        "outputId": "ff24fbce-c1e7-423b-d701-fd762b738b92"
      },
      "execution_count": null,
      "outputs": [
        {
          "output_type": "stream",
          "name": "stdout",
          "text": [
            "32.397377072831524\n",
            "18\n",
            "65\n"
          ]
        },
        {
          "output_type": "display_data",
          "data": {
            "image/png": "[encoded data removed]",
            "text/plain": [
              "<Figure size 720x288 with 1 Axes>"
            ]
          },
          "metadata": {
            "needs_background": "light"
          }
        }
      ]
    },
    {
      "cell_type": "markdown",
      "source": [
        "##Simulação para cada combinação de parametros."
      ],
      "metadata": {
        "id": "5iWp-N1qaGU1"
      }
    },
    {
      "cell_type": "code",
      "source": [
        "\n",
        "a1=aquecimentoaguadtdx(370,300,0.1,0.025,10,0.005)\n",
        "T0sa1=a1[1]\n",
        "T1sa1=a1[0]\n",
        "Tsaidaa1=a1[2]\n",
        "Tempoa1=a1[3]\n",
        "\n",
        "b1=aquecimentoaguadtdx(370,300,0.1,0.025,15,0.005)\n",
        "T0sb1=b1[1]\n",
        "T1sb1=b1[0]\n",
        "Tsaidab1=b1[2]\n",
        "Tempob1=b1[3]\n",
        "\n",
        "\n",
        "c1=aquecimentoaguadtdx(370,300,0.1,0.025,20,0.005)\n",
        "T0sc1=c1[1]\n",
        "T1sc1=c1[0]\n",
        "Tsaidac1=c1[2]\n",
        "Tempoc1=c1[3]\n",
        "\n",
        "\n",
        "d1=aquecimentoaguadtdx(370,300,0.1,0.025,25,0.005)\n",
        "T0sd1=d1[1]\n",
        "T1sd1=d1[0]\n",
        "Tsaidad1=d1[2]\n",
        "\n",
        "e1=aquecimentoaguadtdx(370,300,0.1,0.025,30,0.005)\n",
        "T0se1=e1[1]\n",
        "T1se1=e1[0]\n",
        "Tsaidae1=e1[2]\n",
        "Tempod1=d1[3]\n",
        "f1=aquecimentoaguadtdx(370,300,0.1,0.025,35,0.005)\n",
        "T0sf1=f1[1]\n",
        "T1sf1=f1[0]\n",
        "Tsaidaf1=f1[2]\n",
        "Tempof1=f1[3]\n",
        "g1=aquecimentoaguadtdx(370,300,0.1,0.025,40,0.005)\n",
        "T0sg1=g1[1]\n",
        "T1sg1=g1[0]\n",
        "Tsaidag1=g1[2]\n",
        "Tempog1=g1[3]\n",
        "h1=aquecimentoaguadtdx(370,300,0.1,0.025,45,0.005)\n",
        "T0sh1=h1[1]\n",
        "T1sh1=h1[0]\n",
        "Tsaidah1=h1[2]\n",
        "Tempoh1=h1[3]\n",
        "i1=aquecimentoaguadtdx(370,300,0.1,0.025,50,0.005)\n",
        "T0si1=i1[1]\n",
        "T1si1=i1[0]\n",
        "Tsaidai1=i1[2]\n",
        "Tempoi1=i1[3]\n",
        "a2=aquecimentoaguadtdx(370,300,0.2,0.025,20,0.005)\n",
        "T0sa2=a2[1]\n",
        "T1sa2=a2[0]\n",
        "Tsaidaa2=a2[2]\n",
        "Tempoa2=a2[3]\n",
        "b2=aquecimentoaguadtdx(370,300,0.3,0.025,20,0.005)\n",
        "T0sb2=b2[1]\n",
        "T1sb2=b2[0]\n",
        "Tsaidab2=b2[2]\n",
        "Tempob2=b2[3]\n",
        "c2=aquecimentoaguadtdx(370,300,0.4,0.025,20,0.005)\n",
        "T0sc2=c2[1]\n",
        "T1sc2=c2[0]\n",
        "Tsaidac2=c2[2]\n",
        "Tempoc2=c2[3]\n",
        "d2=aquecimentoaguadtdx(370,300,0.5,0.025,20,0.005)\n",
        "T0sd2=d2[1]\n",
        "T1sd2=d2[0]\n",
        "Tsaidad2=d2[2]\n",
        "Tempod2=d2[3]\n",
        "\n",
        " \n",
        "\n"
      ],
      "metadata": {
        "id": "8bWQNOVUaR8m"
      },
      "execution_count": null,
      "outputs": []
    },
    {
      "cell_type": "markdown",
      "source": [
        "#Plotagem dos graficos"
      ],
      "metadata": {
        "id": "uFGA2O-1aXdu"
      }
    },
    {
      "cell_type": "code",
      "source": [
        "fig, ax = plt.subplots(figsize=(10,4))\n",
        "ax.set_xlabel(\"Interações\")\n",
        "ax.set_ylabel(\"Temperatura em °C\")\n",
        "ax.set_title(\"Temperatura do mosto com diferentes comprimentos do Chiller\")\n",
        "ax.set_ylim((30,100))\n",
        "\n",
        "plt.plot(T0sa1[:10000],label=\"a1\")\n",
        "plt.plot(T0sb1[:10000],label=\"b1\")\n",
        "plt.plot(T0sc1[:10000],label=\"c1\")\n",
        "plt.plot(T0sd1[:10000],label=\"d1\")\n",
        "plt.plot(T0se1[:10000],label=\"e1\")\n",
        "plt.plot(T0sf1[:10000],label=\"f1\")\n",
        "plt.plot(T0sg1[:10000],label=\"g1\")\n",
        "plt.plot(T0sh1[:10000],label=\"h1\")\n",
        "plt.plot(T0si1[:10000],label=\"i1\")\n",
        "\n",
        "ax.legend()\n"
      ],
      "metadata": {
        "id": "Usa7okpgaddX"
      },
      "execution_count": null,
      "outputs": []
    },
    {
      "cell_type": "code",
      "source": [
        "fig, ax = plt.subplots(figsize=(10,4))\n",
        "ax.set_xlabel(\"Interações\")\n",
        "ax.set_ylabel(\"Temperatura em °C\")\n",
        "ax.set_title(\"Temperatura do mosto com diferentes fluxos\")\n",
        "ax.set_ylim((30,100))\n",
        "plt.plot(T0sa2[:10000],label=\"a2\")\n",
        "plt.plot(T0sb2[:10000],label=\"b2\")\n",
        "plt.plot(T0sc2[:10000],label=\"c2\")\n",
        "plt.plot(T0sd2[:10000],label=\"d2\")\n",
        "ax.legend()"
      ],
      "metadata": {
        "id": "jtwRFM2xamPB"
      },
      "execution_count": null,
      "outputs": []
    },
    {
      "cell_type": "code",
      "source": [
        "fig, ax = plt.subplots(figsize=(10,4))\n",
        "ax.set_title(\"Temperatura do mosto para diferentes combinações\")\n",
        "ax.set_ylabel(\"Temperatura em °C\")\n",
        "ax.set_ylim((30,100))\n",
        "plt.plot(T0sa1[:10000],label=\"a1\")\n",
        "plt.plot(T0si1[:10000],label=\"i1\")\n",
        "plt.plot(T0sd2[:10000],label=\"d2\")\n",
        "ax.legend()"
      ],
      "metadata": {
        "id": "Ma2zAnOzanH2"
      },
      "execution_count": null,
      "outputs": []
    },
    {
      "cell_type": "code",
      "source": [
        "\n",
        "Tudo=[a1,a2,b1,b2,c1,c2,d1,d2,e1,f1,g1,h1,i1]\n",
        "df=pd.DataFrame(Tudo,index=[\"a1\",\"a2\",\"b1\",\"b2\",\"c1\",\"c2\",\"d1\",\"d2\",\"e1\",\"f1\",\"g1\",\"h1\",\"i1\"],columns=[\"T1s\",\"T0s\",\"Tsaida\",\"Tempo\",\"Tempo50\"])\n"
      ],
      "metadata": {
        "id": "gV_Hubp9aqIQ"
      },
      "execution_count": null,
      "outputs": []
    },
    {
      "cell_type": "code",
      "source": [
        "df.sort_values(by=\"Tempo\",ascending=False,inplace=True)\n",
        "df[\"Tempo\"]=df[\"Tempo\"].apply(lambda x: x/600)"
      ],
      "metadata": {
        "id": "EhGhbLwzawId"
      },
      "execution_count": null,
      "outputs": []
    },
    {
      "cell_type": "code",
      "source": [
        "fig, ax = plt.subplots(figsize=(10,4))\n",
        "ax.set_title(\"Tempo para o resfriamento Total em minutos\")\n",
        "ax.set_ylabel(\"Minutos\")\n",
        "df[\"Tempo\"].plot.bar()"
      ],
      "metadata": {
        "id": "QZQaDsNqa0I0"
      },
      "execution_count": null,
      "outputs": []
    },
    {
      "cell_type": "code",
      "source": [
        "a=df.explode(\"T1s\")\n",
        "a.explode(\"T0s\")\n"
      ],
      "metadata": {
        "id": "QaqFIBnWa9hl"
      },
      "execution_count": null,
      "outputs": []
    },
    {
      "cell_type": "code",
      "source": [
        ""
      ],
      "metadata": {
        "id": "TSnMphYt6iQn"
      },
      "execution_count": null,
      "outputs": []
    }
  ]
}